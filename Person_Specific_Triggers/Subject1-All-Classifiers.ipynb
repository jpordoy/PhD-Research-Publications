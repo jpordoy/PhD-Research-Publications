{
 "cells": [
  {
   "cell_type": "code",
   "execution_count": 1,
   "metadata": {},
   "outputs": [
    {
     "name": "stderr",
     "output_type": "stream",
     "text": [
      "Using TensorFlow backend.\n",
      "C:\\Users\\jamie\\Anaconda3\\lib\\site-packages\\tensorflow\\python\\framework\\dtypes.py:516: FutureWarning: Passing (type, 1) or '1type' as a synonym of type is deprecated; in a future version of numpy, it will be understood as (type, (1,)) / '(1,)type'.\n",
      "  _np_qint8 = np.dtype([(\"qint8\", np.int8, 1)])\n",
      "C:\\Users\\jamie\\Anaconda3\\lib\\site-packages\\tensorflow\\python\\framework\\dtypes.py:517: FutureWarning: Passing (type, 1) or '1type' as a synonym of type is deprecated; in a future version of numpy, it will be understood as (type, (1,)) / '(1,)type'.\n",
      "  _np_quint8 = np.dtype([(\"quint8\", np.uint8, 1)])\n",
      "C:\\Users\\jamie\\Anaconda3\\lib\\site-packages\\tensorflow\\python\\framework\\dtypes.py:518: FutureWarning: Passing (type, 1) or '1type' as a synonym of type is deprecated; in a future version of numpy, it will be understood as (type, (1,)) / '(1,)type'.\n",
      "  _np_qint16 = np.dtype([(\"qint16\", np.int16, 1)])\n",
      "C:\\Users\\jamie\\Anaconda3\\lib\\site-packages\\tensorflow\\python\\framework\\dtypes.py:519: FutureWarning: Passing (type, 1) or '1type' as a synonym of type is deprecated; in a future version of numpy, it will be understood as (type, (1,)) / '(1,)type'.\n",
      "  _np_quint16 = np.dtype([(\"quint16\", np.uint16, 1)])\n",
      "C:\\Users\\jamie\\Anaconda3\\lib\\site-packages\\tensorflow\\python\\framework\\dtypes.py:520: FutureWarning: Passing (type, 1) or '1type' as a synonym of type is deprecated; in a future version of numpy, it will be understood as (type, (1,)) / '(1,)type'.\n",
      "  _np_qint32 = np.dtype([(\"qint32\", np.int32, 1)])\n",
      "C:\\Users\\jamie\\Anaconda3\\lib\\site-packages\\tensorflow\\python\\framework\\dtypes.py:525: FutureWarning: Passing (type, 1) or '1type' as a synonym of type is deprecated; in a future version of numpy, it will be understood as (type, (1,)) / '(1,)type'.\n",
      "  np_resource = np.dtype([(\"resource\", np.ubyte, 1)])\n",
      "C:\\Users\\jamie\\Anaconda3\\lib\\site-packages\\tensorboard\\compat\\tensorflow_stub\\dtypes.py:541: FutureWarning: Passing (type, 1) or '1type' as a synonym of type is deprecated; in a future version of numpy, it will be understood as (type, (1,)) / '(1,)type'.\n",
      "  _np_qint8 = np.dtype([(\"qint8\", np.int8, 1)])\n",
      "C:\\Users\\jamie\\Anaconda3\\lib\\site-packages\\tensorboard\\compat\\tensorflow_stub\\dtypes.py:542: FutureWarning: Passing (type, 1) or '1type' as a synonym of type is deprecated; in a future version of numpy, it will be understood as (type, (1,)) / '(1,)type'.\n",
      "  _np_quint8 = np.dtype([(\"quint8\", np.uint8, 1)])\n",
      "C:\\Users\\jamie\\Anaconda3\\lib\\site-packages\\tensorboard\\compat\\tensorflow_stub\\dtypes.py:543: FutureWarning: Passing (type, 1) or '1type' as a synonym of type is deprecated; in a future version of numpy, it will be understood as (type, (1,)) / '(1,)type'.\n",
      "  _np_qint16 = np.dtype([(\"qint16\", np.int16, 1)])\n",
      "C:\\Users\\jamie\\Anaconda3\\lib\\site-packages\\tensorboard\\compat\\tensorflow_stub\\dtypes.py:544: FutureWarning: Passing (type, 1) or '1type' as a synonym of type is deprecated; in a future version of numpy, it will be understood as (type, (1,)) / '(1,)type'.\n",
      "  _np_quint16 = np.dtype([(\"quint16\", np.uint16, 1)])\n",
      "C:\\Users\\jamie\\Anaconda3\\lib\\site-packages\\tensorboard\\compat\\tensorflow_stub\\dtypes.py:545: FutureWarning: Passing (type, 1) or '1type' as a synonym of type is deprecated; in a future version of numpy, it will be understood as (type, (1,)) / '(1,)type'.\n",
      "  _np_qint32 = np.dtype([(\"qint32\", np.int32, 1)])\n",
      "C:\\Users\\jamie\\Anaconda3\\lib\\site-packages\\tensorboard\\compat\\tensorflow_stub\\dtypes.py:550: FutureWarning: Passing (type, 1) or '1type' as a synonym of type is deprecated; in a future version of numpy, it will be understood as (type, (1,)) / '(1,)type'.\n",
      "  np_resource = np.dtype([(\"resource\", np.ubyte, 1)])\n"
     ]
    }
   ],
   "source": [
    "import pandas as pd\n",
    "import numpy as np\n",
    "import matplotlib.pyplot as plt\n",
    "import seaborn as sns\n",
    "from sklearn.metrics import classification_report\n",
    "from sklearn.metrics import accuracy_score\n",
    "from sklearn.metrics import confusion_matrix\n",
    "import sklearn as sk\n",
    "from sklearn import model_selection\n",
    "from sklearn.linear_model import LogisticRegression\n",
    "from sklearn.tree import DecisionTreeClassifier\n",
    "import matplotlib.pyplot as plt\n",
    "from sklearn import preprocessing\n",
    "from sklearn.model_selection import train_test_split\n",
    "from sklearn.tree import DecisionTreeClassifier\n",
    "from sklearn.preprocessing import StandardScaler\n",
    "from sklearn.model_selection import train_test_split\n",
    "from sklearn.metrics import confusion_matrix, precision_recall_curve, roc_auc_score, roc_curve, accuracy_score\n",
    "from sklearn.ensemble import RandomForestClassifier\n",
    "\n",
    "#KERAS\n",
    "from keras.models  import Sequential, K\n",
    "from keras.layers import Input, Dense, Flatten, Dropout, BatchNormalization\n",
    "from keras.optimizers import Adam, SGD, RMSprop\n",
    "import warnings\n",
    "warnings.filterwarnings(\"ignore\", category=FutureWarning)\n",
    "%matplotlib inline"
   ]
  },
  {
   "cell_type": "code",
   "execution_count": 2,
   "metadata": {},
   "outputs": [
    {
     "name": "stdout",
     "output_type": "stream",
     "text": [
      "Class 0: 283\n",
      "Class 1: 17\n",
      "Proportion: 16.6471 : 1\n"
     ]
    },
    {
     "data": {
      "image/png": "[encoded data removed]",
      "text/plain": [
       "<Figure size 432x288 with 1 Axes>"
      ]
     },
     "metadata": {
      "needs_background": "light"
     },
     "output_type": "display_data"
    }
   ],
   "source": [
    "df = pd.read_csv('C:\\\\Users\\\\jamie\\\\AppData\\\\Desktop\\\\PhD\\\\Datasets\\\\MSc-Sleep-Data\\\\Subject1.csv')\n",
    "df = df.drop('Date', 1)\n",
    "df = df.drop('Gender', 1)\n",
    "\n",
    "target_count = df.Outcome.value_counts()\n",
    "\n",
    "print('Class 0:', target_count[0])\n",
    "print('Class 1:', target_count[1])\n",
    "print('Proportion:', round(target_count[0] / target_count[1], 4), ': 1')\n",
    "\n",
    "target_count.plot(kind='bar', title='Count (Outcome)');"
   ]
  },
  {
   "cell_type": "code",
   "execution_count": 3,
   "metadata": {},
   "outputs": [],
   "source": [
    "# Class count\n",
    "count_class_0, count_class_1 = df.Outcome.value_counts()\n",
    "\n",
    "# Divide by class\n",
    "df_class_0 = df[df['Outcome'] == 0]\n",
    "df_class_1 = df[df['Outcome'] == 1]"
   ]
  },
  {
   "cell_type": "code",
   "execution_count": 4,
   "metadata": {},
   "outputs": [
    {
     "name": "stdout",
     "output_type": "stream",
     "text": [
      "Random under-sampling:\n",
      "1    17\n",
      "0    17\n",
      "Name: Outcome, dtype: int64\n"
     ]
    },
    {
     "data": {
      "image/png": "[encoded data removed]",
      "text/plain": [
       "<Figure size 432x288 with 1 Axes>"
      ]
     },
     "metadata": {
      "needs_background": "light"
     },
     "output_type": "display_data"
    }
   ],
   "source": [
    "df_class_0_under = df_class_0.sample(count_class_1)\n",
    "df_test_under = pd.concat([df_class_0_under, df_class_1], axis=0)\n",
    "\n",
    "print('Random under-sampling:')\n",
    "print(df_test_under.Outcome.value_counts())\n",
    "\n",
    "df_test_under.Outcome.value_counts().plot(kind='bar', title='Count (Outcome)');"
   ]
  },
  {
   "cell_type": "code",
   "execution_count": 5,
   "metadata": {},
   "outputs": [
    {
     "name": "stdout",
     "output_type": "stream",
     "text": [
      "Random over-sampling:\n",
      "1    283\n",
      "0    283\n",
      "Name: Outcome, dtype: int64\n"
     ]
    },
    {
     "data": {
      "image/png": "[encoded data removed]",
      "text/plain": [
       "<Figure size 432x288 with 1 Axes>"
      ]
     },
     "metadata": {
      "needs_background": "light"
     },
     "output_type": "display_data"
    }
   ],
   "source": [
    "df_class_1_over = df_class_1.sample(count_class_0, replace=True)\n",
    "df_test_over = pd.concat([df_class_0, df_class_1_over], axis=0)\n",
    "\n",
    "print('Random over-sampling:')\n",
    "print(df_test_over.Outcome.value_counts())\n",
    "\n",
    "df_test_over.Outcome.value_counts().plot(kind='bar', title='Count (Outcome)');\n"
   ]
  },
  {
   "cell_type": "code",
   "execution_count": 6,
   "metadata": {},
   "outputs": [
    {
     "name": "stdout",
     "output_type": "stream",
     "text": [
      "Accuracy score for Logistical Regression Model is: 96.47058823529412\n",
      "\n",
      "Logisitcal Regression Classification Report\n",
      "\n",
      "              precision    recall  f1-score   support\n",
      "\n",
      "           0       1.00      0.93      0.96        81\n",
      "           1       0.94      1.00      0.97        89\n",
      "\n",
      "    accuracy                           0.96       170\n",
      "   macro avg       0.97      0.96      0.96       170\n",
      "weighted avg       0.97      0.96      0.96       170\n",
      "\n",
      "\n",
      "Logisitcal Regression AUCROC is 0.963\n"
     ]
    }
   ],
   "source": [
    "#LOGISTICAL REGRESSION\n",
    "#Building a Logistic Regression model\n",
    "from sklearn.model_selection import train_test_split\n",
    "\n",
    "#Split the epileptic data: 70%training||30% testing using the SKLearn train_test_Split\n",
    "x_train, x_test,y_train,y_test = train_test_split(df_test_over.drop('Outcome',axis=1),df_test_over['Outcome'],\n",
    "                                                  test_size=0.3,random_state=33)\n",
    "\n",
    "#Training and Predicting\n",
    "#Import the Logisitcal Regression Library from SKLearn\n",
    "from sklearn.linear_model import LogisticRegression\n",
    "\n",
    "#create instance of logistical regression model called logmodel\n",
    "logmodel=LogisticRegression()\n",
    "#pass the data to the logmodel\n",
    "logmodel.fit(x_train,y_train)\n",
    "\n",
    "#make predictions with model on unseen test data\n",
    "predictions = logmodel.predict(x_test)\n",
    "\n",
    "\n",
    "#Evaluation of performance metrics\n",
    "from sklearn.metrics import classification_report\n",
    "from sklearn.metrics import accuracy_score\n",
    "from sklearn.metrics import confusion_matrix\n",
    "\n",
    "print(\"Accuracy score for Logistical Regression Model is:\",accuracy_score(y_test, predictions)*100)\n",
    "print(\"\\nLogisitcal Regression Classification Report\\n\")\n",
    "print(classification_report(y_test,predictions))\n",
    "print('\\nLogisitcal Regression AUCROC is {:.3f}'.format(roc_auc_score(y_test,predictions)))\n"
   ]
  },
  {
   "cell_type": "code",
   "execution_count": 7,
   "metadata": {},
   "outputs": [
    {
     "name": "stdout",
     "output_type": "stream",
     "text": [
      "Confusion Matrix : \n",
      " [[75  6]\n",
      " [ 0 89]]\n",
      "Accuracy :  0.9647058823529412\n",
      "Sensitivity :  0.9259259259259259\n",
      "Specificity :  1.0\n",
      "Precision: 0.936842\n"
     ]
    }
   ],
   "source": [
    "#Confusion matrix, Accuracy, sensitivity and specificity\n",
    "from sklearn.metrics import confusion_matrix\n",
    "from sklearn.metrics import confusion_matrix, precision_score, roc_auc_score, roc_curve, accuracy_score\n",
    "\n",
    "\n",
    "cm=confusion_matrix(y_test, predictions)\n",
    "print('Confusion Matrix : \\n', cm)\n",
    "\n",
    "total1=sum(sum(cm))\n",
    "#####from confusion matrix calculate accuracy\n",
    "accuracy1=(cm[0,0]+cm[1,1])/total1\n",
    "print ('Accuracy : ', accuracy1)\n",
    "\n",
    "sensitivity1 = cm[0,0]/(cm[0,0]+cm[0,1])\n",
    "print('Sensitivity : ', sensitivity1 )\n",
    "\n",
    "specificity1 = cm[1,1]/(cm[1,0]+cm[1,1])\n",
    "print('Specificity : ', specificity1)\n",
    "\n",
    "precision = precision_score(y_test, predictions)\n",
    "print('Precision: %f' % precision)"
   ]
  },
  {
   "cell_type": "code",
   "execution_count": 8,
   "metadata": {},
   "outputs": [
    {
     "name": "stdout",
     "output_type": "stream",
     "text": [
      "\n",
      "Accuracy Score for Random Forest Model is 91.228\n",
      "\n",
      "Random Forest roc-auc measure is 0.969\n",
      "\n",
      "Random Forest  Classification Report\n",
      "\n",
      "              precision    recall  f1-score   support\n",
      "\n",
      "           0       0.88      0.95      0.91        55\n",
      "           1       0.95      0.88      0.91        59\n",
      "\n",
      "    accuracy                           0.91       114\n",
      "   macro avg       0.91      0.91      0.91       114\n",
      "weighted avg       0.91      0.91      0.91       114\n",
      "\n"
     ]
    }
   ],
   "source": [
    "#RANDOM FOREST\n",
    "\n",
    "X = df_test_over.iloc[:, :-3].values\n",
    "\n",
    "#y-axis uses the variable outcome as its target variable\n",
    "y = df_test_over[\"Outcome\"].values\n",
    "\n",
    "#splitt the training data using 70% for training and 30% for testing\n",
    "X_train, X_test, y_train, y_test = train_test_split(X, y, test_size=0.2, random_state=10)\n",
    "\n",
    "#shows percentage of seizures compared to non seizures\n",
    "np.mean(y), np.mean(1-y)\n",
    "\n",
    "\n",
    "## Train the RF Model\n",
    "rf_model = RandomForestClassifier()\n",
    "\n",
    "rf_model.fit(X_train, y_train)\n",
    "\n",
    "# Make predictions on the test set - both \"hard\" predictions, and the scores (percent of trees voting yes)\n",
    "y_pred_class_rf = rf_model.predict(X_test)\n",
    "y_pred_prob_rf = rf_model.predict_proba(X_test)\n",
    "\n",
    "\n",
    "#list the performance metrics the model emanates\n",
    "print('\\nAccuracy Score for Random Forest Model is {:.3f}'.format(accuracy_score(y_test,y_pred_class_rf)*100))\n",
    "print('\\nRandom Forest roc-auc measure is {:.3f}'.format(roc_auc_score(y_test,y_pred_prob_rf[:,1])))\n",
    "print(\"\\nRandom Forest  Classification Report\\n\")\n",
    "print(classification_report(y_test,y_pred_class_rf))"
   ]
  },
  {
   "cell_type": "code",
   "execution_count": 9,
   "metadata": {},
   "outputs": [
    {
     "name": "stdout",
     "output_type": "stream",
     "text": [
      "Confusion Matrix for RF: \n",
      " [[52  3]\n",
      " [ 7 52]]\n",
      "Accuracy :  0.9122807017543859\n",
      "Sensitivity :  0.9454545454545454\n",
      "Specificity :  0.8813559322033898\n",
      "Precision: 0.945455\n"
     ]
    }
   ],
   "source": [
    "#Confusion matrix, Accuracy, sensitivity and specificity\n",
    "from sklearn.metrics import confusion_matrix\n",
    "\n",
    "cm=confusion_matrix(y_test, y_pred_class_rf)\n",
    "print('Confusion Matrix for RF: \\n', cm)\n",
    "\n",
    "total1=sum(sum(cm))\n",
    "#####from confusion matrix calculate accuracy\n",
    "accuracy1=(cm[0,0]+cm[1,1])/total1\n",
    "print ('Accuracy : ', accuracy1)\n",
    "\n",
    "sensitivity1 = cm[0,0]/(cm[0,0]+cm[0,1])\n",
    "print('Sensitivity : ', sensitivity1)\n",
    "\n",
    "specificity1 = cm[1,1]/(cm[1,0]+cm[1,1])\n",
    "print('Specificity : ', specificity1)\n",
    "\n",
    "precision = precision_score(y_test, y_pred_class_rf)\n",
    "print('Precision: %f' % precision)"
   ]
  },
  {
   "cell_type": "code",
   "execution_count": null,
   "metadata": {},
   "outputs": [],
   "source": []
  },
  {
   "cell_type": "code",
   "execution_count": 10,
   "metadata": {
    "scrolled": true
   },
   "outputs": [
    {
     "name": "stderr",
     "output_type": "stream",
     "text": [
      "WARNING: Logging before flag parsing goes to stderr.\n",
      "W0910 16:34:38.317182 15032 deprecation_wrapper.py:119] From C:\\Users\\jamie\\Anaconda3\\lib\\site-packages\\keras\\backend\\tensorflow_backend.py:74: The name tf.get_default_graph is deprecated. Please use tf.compat.v1.get_default_graph instead.\n",
      "\n",
      "W0910 16:34:38.364059 15032 deprecation_wrapper.py:119] From C:\\Users\\jamie\\Anaconda3\\lib\\site-packages\\keras\\backend\\tensorflow_backend.py:517: The name tf.placeholder is deprecated. Please use tf.compat.v1.placeholder instead.\n",
      "\n",
      "W0910 16:34:38.372035 15032 deprecation_wrapper.py:119] From C:\\Users\\jamie\\Anaconda3\\lib\\site-packages\\keras\\backend\\tensorflow_backend.py:4138: The name tf.random_uniform is deprecated. Please use tf.random.uniform instead.\n",
      "\n",
      "W0910 16:34:38.427930 15032 deprecation_wrapper.py:119] From C:\\Users\\jamie\\Anaconda3\\lib\\site-packages\\keras\\optimizers.py:790: The name tf.train.Optimizer is deprecated. Please use tf.compat.v1.train.Optimizer instead.\n",
      "\n",
      "W0910 16:34:38.432873 15032 deprecation_wrapper.py:119] From C:\\Users\\jamie\\Anaconda3\\lib\\site-packages\\keras\\backend\\tensorflow_backend.py:3376: The name tf.log is deprecated. Please use tf.math.log instead.\n",
      "\n",
      "W0910 16:34:38.437859 15032 deprecation.py:323] From C:\\Users\\jamie\\Anaconda3\\lib\\site-packages\\tensorflow\\python\\ops\\nn_impl.py:180: add_dispatch_support.<locals>.wrapper (from tensorflow.python.ops.array_ops) is deprecated and will be removed in a future version.\n",
      "Instructions for updating:\n",
      "Use tf.where in 2.0, which has the same broadcast rule as np.where\n"
     ]
    },
    {
     "name": "stdout",
     "output_type": "stream",
     "text": [
      "\n",
      "************Start of Nerual Netwrok Summary*********\n",
      "_________________________________________________________________\n",
      "Layer (type)                 Output Shape              Param #   \n",
      "=================================================================\n",
      "dense_1 (Dense)              (None, 12)                72        \n",
      "_________________________________________________________________\n",
      "dense_2 (Dense)              (None, 1)                 13        \n",
      "=================================================================\n",
      "Total params: 85\n",
      "Trainable params: 85\n",
      "Non-trainable params: 0\n",
      "_________________________________________________________________\n"
     ]
    },
    {
     "name": "stderr",
     "output_type": "stream",
     "text": [
      "W0910 16:34:38.644486 15032 deprecation_wrapper.py:119] From C:\\Users\\jamie\\Anaconda3\\lib\\site-packages\\keras\\backend\\tensorflow_backend.py:986: The name tf.assign_add is deprecated. Please use tf.compat.v1.assign_add instead.\n",
      "\n"
     ]
    },
    {
     "name": "stdout",
     "output_type": "stream",
     "text": [
      "Train on 452 samples, validate on 114 samples\n",
      "Epoch 1/200\n",
      "452/452 [==============================] - 0s 569us/step - loss: 0.6016 - acc: 0.6814 - val_loss: 0.5475 - val_acc: 0.7456\n",
      "Epoch 2/200\n",
      "452/452 [==============================] - 0s 38us/step - loss: 0.5911 - acc: 0.6814 - val_loss: 0.5387 - val_acc: 0.7544\n",
      "Epoch 3/200\n",
      "452/452 [==============================] - 0s 31us/step - loss: 0.5801 - acc: 0.6903 - val_loss: 0.5303 - val_acc: 0.7807\n",
      "Epoch 4/200\n",
      "452/452 [==============================] - 0s 26us/step - loss: 0.5697 - acc: 0.7190 - val_loss: 0.5222 - val_acc: 0.7807\n",
      "Epoch 5/200\n",
      "452/452 [==============================] - 0s 31us/step - loss: 0.5596 - acc: 0.7168 - val_loss: 0.5147 - val_acc: 0.7807\n",
      "Epoch 6/200\n",
      "452/452 [==============================] - 0s 31us/step - loss: 0.5505 - acc: 0.7190 - val_loss: 0.5073 - val_acc: 0.7807\n",
      "Epoch 7/200\n",
      "452/452 [==============================] - 0s 29us/step - loss: 0.5413 - acc: 0.7500 - val_loss: 0.5002 - val_acc: 0.7895\n",
      "Epoch 8/200\n",
      "452/452 [==============================] - 0s 29us/step - loss: 0.5329 - acc: 0.7500 - val_loss: 0.4934 - val_acc: 0.7895\n",
      "Epoch 9/200\n",
      "452/452 [==============================] - 0s 24us/step - loss: 0.5247 - acc: 0.7500 - val_loss: 0.4866 - val_acc: 0.7895\n",
      "Epoch 10/200\n",
      "452/452 [==============================] - 0s 25us/step - loss: 0.5163 - acc: 0.7500 - val_loss: 0.4803 - val_acc: 0.7895\n",
      "Epoch 11/200\n",
      "452/452 [==============================] - 0s 29us/step - loss: 0.5089 - acc: 0.7500 - val_loss: 0.4740 - val_acc: 0.7895\n",
      "Epoch 12/200\n",
      "452/452 [==============================] - 0s 29us/step - loss: 0.5013 - acc: 0.7500 - val_loss: 0.4680 - val_acc: 0.7895\n",
      "Epoch 13/200\n",
      "452/452 [==============================] - 0s 26us/step - loss: 0.4942 - acc: 0.7500 - val_loss: 0.4623 - val_acc: 0.7895\n",
      "Epoch 14/200\n",
      "452/452 [==============================] - 0s 25us/step - loss: 0.4875 - acc: 0.7500 - val_loss: 0.4568 - val_acc: 0.7982\n",
      "Epoch 15/200\n",
      "452/452 [==============================] - 0s 26us/step - loss: 0.4812 - acc: 0.7500 - val_loss: 0.4516 - val_acc: 0.7982\n",
      "Epoch 16/200\n",
      "452/452 [==============================] - 0s 24us/step - loss: 0.4752 - acc: 0.7500 - val_loss: 0.4464 - val_acc: 0.8070\n",
      "Epoch 17/200\n",
      "452/452 [==============================] - 0s 29us/step - loss: 0.4692 - acc: 0.7500 - val_loss: 0.4413 - val_acc: 0.8070\n",
      "Epoch 18/200\n",
      "452/452 [==============================] - 0s 26us/step - loss: 0.4633 - acc: 0.7522 - val_loss: 0.4366 - val_acc: 0.8158\n",
      "Epoch 19/200\n",
      "452/452 [==============================] - 0s 24us/step - loss: 0.4580 - acc: 0.7522 - val_loss: 0.4320 - val_acc: 0.8158\n",
      "Epoch 20/200\n",
      "452/452 [==============================] - 0s 26us/step - loss: 0.4528 - acc: 0.7522 - val_loss: 0.4275 - val_acc: 0.8158\n",
      "Epoch 21/200\n",
      "452/452 [==============================] - 0s 29us/step - loss: 0.4476 - acc: 0.7522 - val_loss: 0.4230 - val_acc: 0.8158\n",
      "Epoch 22/200\n",
      "452/452 [==============================] - 0s 35us/step - loss: 0.4426 - acc: 0.7544 - val_loss: 0.4187 - val_acc: 0.8158\n",
      "Epoch 23/200\n",
      "452/452 [==============================] - 0s 33us/step - loss: 0.4379 - acc: 0.7544 - val_loss: 0.4147 - val_acc: 0.8158\n",
      "Epoch 24/200\n",
      "452/452 [==============================] - 0s 33us/step - loss: 0.4334 - acc: 0.7544 - val_loss: 0.4105 - val_acc: 0.8158\n",
      "Epoch 25/200\n",
      "452/452 [==============================] - 0s 31us/step - loss: 0.4290 - acc: 0.7699 - val_loss: 0.4066 - val_acc: 0.8158\n",
      "Epoch 26/200\n",
      "452/452 [==============================] - 0s 33us/step - loss: 0.4246 - acc: 0.7854 - val_loss: 0.4028 - val_acc: 0.8158\n",
      "Epoch 27/200\n",
      "452/452 [==============================] - 0s 26us/step - loss: 0.4205 - acc: 0.7832 - val_loss: 0.3990 - val_acc: 0.8158\n",
      "Epoch 28/200\n",
      "452/452 [==============================] - 0s 29us/step - loss: 0.4164 - acc: 0.7832 - val_loss: 0.3953 - val_acc: 0.8158\n",
      "Epoch 29/200\n",
      "452/452 [==============================] - 0s 31us/step - loss: 0.4124 - acc: 0.7832 - val_loss: 0.3917 - val_acc: 0.8158\n",
      "Epoch 30/200\n",
      "452/452 [==============================] - 0s 38us/step - loss: 0.4085 - acc: 0.7832 - val_loss: 0.3881 - val_acc: 0.8158\n",
      "Epoch 31/200\n",
      "452/452 [==============================] - 0s 40us/step - loss: 0.4047 - acc: 0.7854 - val_loss: 0.3846 - val_acc: 0.8158\n",
      "Epoch 32/200\n",
      "452/452 [==============================] - 0s 26us/step - loss: 0.4011 - acc: 0.7854 - val_loss: 0.3812 - val_acc: 0.8158\n",
      "Epoch 33/200\n",
      "452/452 [==============================] - 0s 26us/step - loss: 0.3974 - acc: 0.7854 - val_loss: 0.3778 - val_acc: 0.8158\n",
      "Epoch 34/200\n",
      "452/452 [==============================] - 0s 31us/step - loss: 0.3938 - acc: 0.8031 - val_loss: 0.3747 - val_acc: 0.8421\n",
      "Epoch 35/200\n",
      "452/452 [==============================] - 0s 29us/step - loss: 0.3905 - acc: 0.8119 - val_loss: 0.3716 - val_acc: 0.8421\n",
      "Epoch 36/200\n",
      "452/452 [==============================] - 0s 29us/step - loss: 0.3871 - acc: 0.8119 - val_loss: 0.3684 - val_acc: 0.8421\n",
      "Epoch 37/200\n",
      "452/452 [==============================] - 0s 22us/step - loss: 0.3839 - acc: 0.8119 - val_loss: 0.3654 - val_acc: 0.8421\n",
      "Epoch 38/200\n",
      "452/452 [==============================] - 0s 28us/step - loss: 0.3807 - acc: 0.8119 - val_loss: 0.3624 - val_acc: 0.8421\n",
      "Epoch 39/200\n",
      "452/452 [==============================] - 0s 26us/step - loss: 0.3776 - acc: 0.8142 - val_loss: 0.3594 - val_acc: 0.8421\n",
      "Epoch 40/200\n",
      "452/452 [==============================] - 0s 24us/step - loss: 0.3746 - acc: 0.8142 - val_loss: 0.3567 - val_acc: 0.8509\n",
      "Epoch 41/200\n",
      "452/452 [==============================] - 0s 30us/step - loss: 0.3717 - acc: 0.8319 - val_loss: 0.3541 - val_acc: 0.8509\n",
      "Epoch 42/200\n",
      "452/452 [==============================] - 0s 24us/step - loss: 0.3690 - acc: 0.8296 - val_loss: 0.3513 - val_acc: 0.8509\n",
      "Epoch 43/200\n",
      "452/452 [==============================] - 0s 26us/step - loss: 0.3661 - acc: 0.8451 - val_loss: 0.3487 - val_acc: 0.8860\n",
      "Epoch 44/200\n",
      "452/452 [==============================] - 0s 24us/step - loss: 0.3635 - acc: 0.8695 - val_loss: 0.3461 - val_acc: 0.9211\n",
      "Epoch 45/200\n",
      "452/452 [==============================] - 0s 24us/step - loss: 0.3607 - acc: 0.9027 - val_loss: 0.3435 - val_acc: 0.9211\n",
      "Epoch 46/200\n",
      "452/452 [==============================] - 0s 26us/step - loss: 0.3582 - acc: 0.9027 - val_loss: 0.3409 - val_acc: 0.9211\n",
      "Epoch 47/200\n",
      "452/452 [==============================] - 0s 25us/step - loss: 0.3555 - acc: 0.9027 - val_loss: 0.3384 - val_acc: 0.9211\n",
      "Epoch 48/200\n",
      "452/452 [==============================] - 0s 24us/step - loss: 0.3531 - acc: 0.9027 - val_loss: 0.3362 - val_acc: 0.9211\n",
      "Epoch 49/200\n",
      "452/452 [==============================] - 0s 24us/step - loss: 0.3508 - acc: 0.9027 - val_loss: 0.3338 - val_acc: 0.9211\n",
      "Epoch 50/200\n",
      "452/452 [==============================] - 0s 22us/step - loss: 0.3483 - acc: 0.9027 - val_loss: 0.3314 - val_acc: 0.9211\n",
      "Epoch 51/200\n",
      "452/452 [==============================] - 0s 23us/step - loss: 0.3460 - acc: 0.9049 - val_loss: 0.3292 - val_acc: 0.9211\n",
      "Epoch 52/200\n",
      "452/452 [==============================] - 0s 25us/step - loss: 0.3437 - acc: 0.9049 - val_loss: 0.3269 - val_acc: 0.9211\n",
      "Epoch 53/200\n",
      "452/452 [==============================] - 0s 24us/step - loss: 0.3414 - acc: 0.9049 - val_loss: 0.3248 - val_acc: 0.9211\n",
      "Epoch 54/200\n",
      "452/452 [==============================] - 0s 24us/step - loss: 0.3393 - acc: 0.9049 - val_loss: 0.3227 - val_acc: 0.9211\n",
      "Epoch 55/200\n",
      "452/452 [==============================] - 0s 24us/step - loss: 0.3372 - acc: 0.9049 - val_loss: 0.3206 - val_acc: 0.9211\n",
      "Epoch 56/200\n",
      "452/452 [==============================] - 0s 22us/step - loss: 0.3351 - acc: 0.9049 - val_loss: 0.3185 - val_acc: 0.9211\n",
      "Epoch 57/200\n",
      "452/452 [==============================] - 0s 26us/step - loss: 0.3330 - acc: 0.9049 - val_loss: 0.3165 - val_acc: 0.9211\n",
      "Epoch 58/200\n",
      "452/452 [==============================] - 0s 24us/step - loss: 0.3310 - acc: 0.9049 - val_loss: 0.3145 - val_acc: 0.9211\n",
      "Epoch 59/200\n",
      "452/452 [==============================] - 0s 25us/step - loss: 0.3290 - acc: 0.9027 - val_loss: 0.3125 - val_acc: 0.9211\n",
      "Epoch 60/200\n",
      "452/452 [==============================] - 0s 26us/step - loss: 0.3270 - acc: 0.9004 - val_loss: 0.3106 - val_acc: 0.9211\n",
      "Epoch 61/200\n"
     ]
    },
    {
     "name": "stdout",
     "output_type": "stream",
     "text": [
      "452/452 [==============================] - 0s 27us/step - loss: 0.3251 - acc: 0.9004 - val_loss: 0.3087 - val_acc: 0.9211\n",
      "Epoch 62/200\n",
      "452/452 [==============================] - 0s 26us/step - loss: 0.3232 - acc: 0.9004 - val_loss: 0.3068 - val_acc: 0.9211\n",
      "Epoch 63/200\n",
      "452/452 [==============================] - 0s 31us/step - loss: 0.3214 - acc: 0.9004 - val_loss: 0.3050 - val_acc: 0.9211\n",
      "Epoch 64/200\n",
      "452/452 [==============================] - 0s 35us/step - loss: 0.3196 - acc: 0.9004 - val_loss: 0.3032 - val_acc: 0.9211\n",
      "Epoch 65/200\n",
      "452/452 [==============================] - 0s 26us/step - loss: 0.3177 - acc: 0.9004 - val_loss: 0.3014 - val_acc: 0.9211\n",
      "Epoch 66/200\n",
      "452/452 [==============================] - 0s 26us/step - loss: 0.3160 - acc: 0.9027 - val_loss: 0.2997 - val_acc: 0.9211\n",
      "Epoch 67/200\n",
      "452/452 [==============================] - 0s 24us/step - loss: 0.3143 - acc: 0.9027 - val_loss: 0.2980 - val_acc: 0.9211\n",
      "Epoch 68/200\n",
      "452/452 [==============================] - 0s 24us/step - loss: 0.3126 - acc: 0.9027 - val_loss: 0.2963 - val_acc: 0.9211\n",
      "Epoch 69/200\n",
      "452/452 [==============================] - 0s 26us/step - loss: 0.3110 - acc: 0.9027 - val_loss: 0.2946 - val_acc: 0.9211\n",
      "Epoch 70/200\n",
      "452/452 [==============================] - 0s 26us/step - loss: 0.3093 - acc: 0.9027 - val_loss: 0.2930 - val_acc: 0.9211\n",
      "Epoch 71/200\n",
      "452/452 [==============================] - 0s 35us/step - loss: 0.3078 - acc: 0.9027 - val_loss: 0.2914 - val_acc: 0.9211\n",
      "Epoch 72/200\n",
      "452/452 [==============================] - 0s 57us/step - loss: 0.3062 - acc: 0.9027 - val_loss: 0.2898 - val_acc: 0.9211\n",
      "Epoch 73/200\n",
      "452/452 [==============================] - 0s 40us/step - loss: 0.3046 - acc: 0.9027 - val_loss: 0.2882 - val_acc: 0.9211\n",
      "Epoch 74/200\n",
      "452/452 [==============================] - 0s 42us/step - loss: 0.3031 - acc: 0.9027 - val_loss: 0.2866 - val_acc: 0.9211\n",
      "Epoch 75/200\n",
      "452/452 [==============================] - 0s 33us/step - loss: 0.3015 - acc: 0.9027 - val_loss: 0.2851 - val_acc: 0.9211\n",
      "Epoch 76/200\n",
      "452/452 [==============================] - 0s 35us/step - loss: 0.3001 - acc: 0.9027 - val_loss: 0.2836 - val_acc: 0.9211\n",
      "Epoch 77/200\n",
      "452/452 [==============================] - 0s 33us/step - loss: 0.2986 - acc: 0.9027 - val_loss: 0.2823 - val_acc: 0.9211\n",
      "Epoch 78/200\n",
      "452/452 [==============================] - 0s 26us/step - loss: 0.2973 - acc: 0.9027 - val_loss: 0.2810 - val_acc: 0.9211\n",
      "Epoch 79/200\n",
      "452/452 [==============================] - 0s 24us/step - loss: 0.2961 - acc: 0.9027 - val_loss: 0.2795 - val_acc: 0.9211\n",
      "Epoch 80/200\n",
      "452/452 [==============================] - 0s 26us/step - loss: 0.2947 - acc: 0.9027 - val_loss: 0.2782 - val_acc: 0.9211\n",
      "Epoch 81/200\n",
      "452/452 [==============================] - 0s 24us/step - loss: 0.2933 - acc: 0.9027 - val_loss: 0.2768 - val_acc: 0.9211\n",
      "Epoch 82/200\n",
      "452/452 [==============================] - 0s 24us/step - loss: 0.2920 - acc: 0.9027 - val_loss: 0.2754 - val_acc: 0.9211\n",
      "Epoch 83/200\n",
      "452/452 [==============================] - 0s 24us/step - loss: 0.2906 - acc: 0.9027 - val_loss: 0.2740 - val_acc: 0.9211\n",
      "Epoch 84/200\n",
      "452/452 [==============================] - 0s 24us/step - loss: 0.2893 - acc: 0.9027 - val_loss: 0.2726 - val_acc: 0.9211\n",
      "Epoch 85/200\n",
      "452/452 [==============================] - 0s 24us/step - loss: 0.2880 - acc: 0.9004 - val_loss: 0.2713 - val_acc: 0.9211\n",
      "Epoch 86/200\n",
      "452/452 [==============================] - 0s 22us/step - loss: 0.2867 - acc: 0.9004 - val_loss: 0.2700 - val_acc: 0.9211\n",
      "Epoch 87/200\n",
      "452/452 [==============================] - 0s 27us/step - loss: 0.2855 - acc: 0.9004 - val_loss: 0.2686 - val_acc: 0.9211\n",
      "Epoch 88/200\n",
      "452/452 [==============================] - 0s 24us/step - loss: 0.2841 - acc: 0.9004 - val_loss: 0.2673 - val_acc: 0.9211\n",
      "Epoch 89/200\n",
      "452/452 [==============================] - 0s 26us/step - loss: 0.2829 - acc: 0.9004 - val_loss: 0.2660 - val_acc: 0.9211\n",
      "Epoch 90/200\n",
      "452/452 [==============================] - 0s 24us/step - loss: 0.2817 - acc: 0.9004 - val_loss: 0.2648 - val_acc: 0.9211\n",
      "Epoch 91/200\n",
      "452/452 [==============================] - 0s 29us/step - loss: 0.2805 - acc: 0.9004 - val_loss: 0.2637 - val_acc: 0.9298\n",
      "Epoch 92/200\n",
      "452/452 [==============================] - 0s 24us/step - loss: 0.2794 - acc: 0.9027 - val_loss: 0.2625 - val_acc: 0.9298\n",
      "Epoch 93/200\n",
      "452/452 [==============================] - 0s 22us/step - loss: 0.2782 - acc: 0.9071 - val_loss: 0.2613 - val_acc: 0.9298\n",
      "Epoch 94/200\n",
      "452/452 [==============================] - 0s 24us/step - loss: 0.2771 - acc: 0.9071 - val_loss: 0.2602 - val_acc: 0.9298\n",
      "Epoch 95/200\n",
      "452/452 [==============================] - 0s 24us/step - loss: 0.2760 - acc: 0.9071 - val_loss: 0.2590 - val_acc: 0.9298\n",
      "Epoch 96/200\n",
      "452/452 [==============================] - 0s 22us/step - loss: 0.2748 - acc: 0.9071 - val_loss: 0.2579 - val_acc: 0.9298\n",
      "Epoch 97/200\n",
      "452/452 [==============================] - 0s 22us/step - loss: 0.2738 - acc: 0.9071 - val_loss: 0.2568 - val_acc: 0.9298\n",
      "Epoch 98/200\n",
      "452/452 [==============================] - 0s 24us/step - loss: 0.2727 - acc: 0.9071 - val_loss: 0.2557 - val_acc: 0.9298\n",
      "Epoch 99/200\n",
      "452/452 [==============================] - 0s 22us/step - loss: 0.2717 - acc: 0.9071 - val_loss: 0.2547 - val_acc: 0.9298\n",
      "Epoch 100/200\n",
      "452/452 [==============================] - 0s 22us/step - loss: 0.2707 - acc: 0.9071 - val_loss: 0.2536 - val_acc: 0.9298\n",
      "Epoch 101/200\n",
      "452/452 [==============================] - 0s 22us/step - loss: 0.2697 - acc: 0.9071 - val_loss: 0.2525 - val_acc: 0.9298\n",
      "Epoch 102/200\n",
      "452/452 [==============================] - 0s 20us/step - loss: 0.2686 - acc: 0.9071 - val_loss: 0.2514 - val_acc: 0.9298\n",
      "Epoch 103/200\n",
      "452/452 [==============================] - 0s 22us/step - loss: 0.2676 - acc: 0.9049 - val_loss: 0.2504 - val_acc: 0.9298\n",
      "Epoch 104/200\n",
      "452/452 [==============================] - 0s 25us/step - loss: 0.2666 - acc: 0.9049 - val_loss: 0.2493 - val_acc: 0.9298\n",
      "Epoch 105/200\n",
      "452/452 [==============================] - 0s 36us/step - loss: 0.2655 - acc: 0.9049 - val_loss: 0.2483 - val_acc: 0.9298\n",
      "Epoch 106/200\n",
      "452/452 [==============================] - 0s 33us/step - loss: 0.2646 - acc: 0.9049 - val_loss: 0.2473 - val_acc: 0.9298\n",
      "Epoch 107/200\n",
      "452/452 [==============================] - 0s 33us/step - loss: 0.2636 - acc: 0.9049 - val_loss: 0.2463 - val_acc: 0.9298\n",
      "Epoch 108/200\n",
      "452/452 [==============================] - 0s 26us/step - loss: 0.2626 - acc: 0.9049 - val_loss: 0.2452 - val_acc: 0.9298\n",
      "Epoch 109/200\n",
      "452/452 [==============================] - 0s 24us/step - loss: 0.2616 - acc: 0.9049 - val_loss: 0.2443 - val_acc: 0.9298\n",
      "Epoch 110/200\n",
      "452/452 [==============================] - 0s 29us/step - loss: 0.2607 - acc: 0.9049 - val_loss: 0.2433 - val_acc: 0.9298\n",
      "Epoch 111/200\n",
      "452/452 [==============================] - 0s 33us/step - loss: 0.2597 - acc: 0.9049 - val_loss: 0.2423 - val_acc: 0.9298\n",
      "Epoch 112/200\n",
      "452/452 [==============================] - 0s 27us/step - loss: 0.2588 - acc: 0.9049 - val_loss: 0.2414 - val_acc: 0.9298\n",
      "Epoch 113/200\n",
      "452/452 [==============================] - 0s 29us/step - loss: 0.2579 - acc: 0.9049 - val_loss: 0.2405 - val_acc: 0.9298\n",
      "Epoch 114/200\n",
      "452/452 [==============================] - 0s 20us/step - loss: 0.2571 - acc: 0.9049 - val_loss: 0.2396 - val_acc: 0.9298\n",
      "Epoch 115/200\n",
      "452/452 [==============================] - 0s 26us/step - loss: 0.2562 - acc: 0.9049 - val_loss: 0.2387 - val_acc: 0.9298\n",
      "Epoch 116/200\n",
      "452/452 [==============================] - 0s 22us/step - loss: 0.2554 - acc: 0.9049 - val_loss: 0.2379 - val_acc: 0.9298\n",
      "Epoch 117/200\n",
      "452/452 [==============================] - 0s 22us/step - loss: 0.2545 - acc: 0.9049 - val_loss: 0.2370 - val_acc: 0.9298\n",
      "Epoch 118/200\n",
      "452/452 [==============================] - 0s 26us/step - loss: 0.2537 - acc: 0.9049 - val_loss: 0.2362 - val_acc: 0.9298\n",
      "Epoch 119/200\n",
      "452/452 [==============================] - 0s 24us/step - loss: 0.2529 - acc: 0.9093 - val_loss: 0.2353 - val_acc: 0.9298\n",
      "Epoch 120/200\n",
      "452/452 [==============================] - 0s 22us/step - loss: 0.2520 - acc: 0.9093 - val_loss: 0.2344 - val_acc: 0.9298\n",
      "Epoch 121/200\n"
     ]
    },
    {
     "name": "stdout",
     "output_type": "stream",
     "text": [
      "452/452 [==============================] - 0s 24us/step - loss: 0.2512 - acc: 0.9093 - val_loss: 0.2335 - val_acc: 0.9298\n",
      "Epoch 122/200\n",
      "452/452 [==============================] - 0s 26us/step - loss: 0.2503 - acc: 0.9093 - val_loss: 0.2327 - val_acc: 0.9298\n",
      "Epoch 123/200\n",
      "452/452 [==============================] - 0s 24us/step - loss: 0.2496 - acc: 0.9115 - val_loss: 0.2319 - val_acc: 0.9298\n",
      "Epoch 124/200\n",
      "452/452 [==============================] - 0s 22us/step - loss: 0.2488 - acc: 0.9115 - val_loss: 0.2311 - val_acc: 0.9298\n",
      "Epoch 125/200\n",
      "452/452 [==============================] - 0s 24us/step - loss: 0.2480 - acc: 0.9115 - val_loss: 0.2303 - val_acc: 0.9298\n",
      "Epoch 126/200\n",
      "452/452 [==============================] - 0s 22us/step - loss: 0.2473 - acc: 0.9115 - val_loss: 0.2295 - val_acc: 0.9298\n",
      "Epoch 127/200\n",
      "452/452 [==============================] - 0s 22us/step - loss: 0.2465 - acc: 0.9115 - val_loss: 0.2287 - val_acc: 0.9298\n",
      "Epoch 128/200\n",
      "452/452 [==============================] - 0s 22us/step - loss: 0.2457 - acc: 0.9115 - val_loss: 0.2279 - val_acc: 0.9298\n",
      "Epoch 129/200\n",
      "452/452 [==============================] - 0s 22us/step - loss: 0.2449 - acc: 0.9115 - val_loss: 0.2271 - val_acc: 0.9298\n",
      "Epoch 130/200\n",
      "452/452 [==============================] - 0s 22us/step - loss: 0.2442 - acc: 0.9115 - val_loss: 0.2263 - val_acc: 0.9298\n",
      "Epoch 131/200\n",
      "452/452 [==============================] - 0s 22us/step - loss: 0.2435 - acc: 0.9137 - val_loss: 0.2256 - val_acc: 0.9298\n",
      "Epoch 132/200\n",
      "452/452 [==============================] - 0s 31us/step - loss: 0.2427 - acc: 0.9137 - val_loss: 0.2248 - val_acc: 0.9298\n",
      "Epoch 133/200\n",
      "452/452 [==============================] - 0s 26us/step - loss: 0.2420 - acc: 0.9137 - val_loss: 0.2240 - val_acc: 0.9298\n",
      "Epoch 134/200\n",
      "452/452 [==============================] - 0s 31us/step - loss: 0.2413 - acc: 0.9137 - val_loss: 0.2233 - val_acc: 0.9298\n",
      "Epoch 135/200\n",
      "452/452 [==============================] - 0s 49us/step - loss: 0.2406 - acc: 0.9137 - val_loss: 0.2226 - val_acc: 0.9298\n",
      "Epoch 136/200\n",
      "452/452 [==============================] - 0s 40us/step - loss: 0.2399 - acc: 0.9137 - val_loss: 0.2219 - val_acc: 0.9298\n",
      "Epoch 137/200\n",
      "452/452 [==============================] - 0s 40us/step - loss: 0.2393 - acc: 0.9137 - val_loss: 0.2212 - val_acc: 0.9298\n",
      "Epoch 138/200\n",
      "452/452 [==============================] - 0s 31us/step - loss: 0.2386 - acc: 0.9137 - val_loss: 0.2205 - val_acc: 0.9298\n",
      "Epoch 139/200\n",
      "452/452 [==============================] - 0s 24us/step - loss: 0.2380 - acc: 0.9137 - val_loss: 0.2198 - val_acc: 0.9298\n",
      "Epoch 140/200\n",
      "452/452 [==============================] - 0s 29us/step - loss: 0.2373 - acc: 0.9137 - val_loss: 0.2191 - val_acc: 0.9298\n",
      "Epoch 141/200\n",
      "452/452 [==============================] - 0s 35us/step - loss: 0.2366 - acc: 0.9137 - val_loss: 0.2185 - val_acc: 0.9298\n",
      "Epoch 142/200\n",
      "452/452 [==============================] - 0s 38us/step - loss: 0.2360 - acc: 0.9137 - val_loss: 0.2179 - val_acc: 0.9298\n",
      "Epoch 143/200\n",
      "452/452 [==============================] - 0s 31us/step - loss: 0.2354 - acc: 0.9137 - val_loss: 0.2172 - val_acc: 0.9298\n",
      "Epoch 144/200\n",
      "452/452 [==============================] - 0s 40us/step - loss: 0.2348 - acc: 0.9137 - val_loss: 0.2165 - val_acc: 0.9298\n",
      "Epoch 145/200\n",
      "452/452 [==============================] - 0s 42us/step - loss: 0.2342 - acc: 0.9137 - val_loss: 0.2159 - val_acc: 0.9298\n",
      "Epoch 146/200\n",
      "452/452 [==============================] - 0s 31us/step - loss: 0.2335 - acc: 0.9137 - val_loss: 0.2152 - val_acc: 0.9298\n",
      "Epoch 147/200\n",
      "452/452 [==============================] - 0s 44us/step - loss: 0.2329 - acc: 0.9137 - val_loss: 0.2146 - val_acc: 0.9298\n",
      "Epoch 148/200\n",
      "452/452 [==============================] - 0s 40us/step - loss: 0.2323 - acc: 0.9137 - val_loss: 0.2139 - val_acc: 0.9298\n",
      "Epoch 149/200\n",
      "452/452 [==============================] - 0s 29us/step - loss: 0.2317 - acc: 0.9137 - val_loss: 0.2133 - val_acc: 0.9298\n",
      "Epoch 150/200\n",
      "452/452 [==============================] - 0s 33us/step - loss: 0.2311 - acc: 0.9137 - val_loss: 0.2127 - val_acc: 0.9298\n",
      "Epoch 151/200\n",
      "452/452 [==============================] - 0s 35us/step - loss: 0.2305 - acc: 0.9137 - val_loss: 0.2120 - val_acc: 0.9298\n",
      "Epoch 152/200\n",
      "452/452 [==============================] - 0s 42us/step - loss: 0.2298 - acc: 0.9137 - val_loss: 0.2114 - val_acc: 0.9298\n",
      "Epoch 153/200\n",
      "452/452 [==============================] - 0s 31us/step - loss: 0.2294 - acc: 0.9137 - val_loss: 0.2108 - val_acc: 0.9298\n",
      "Epoch 154/200\n",
      "452/452 [==============================] - 0s 31us/step - loss: 0.2288 - acc: 0.9137 - val_loss: 0.2102 - val_acc: 0.9298\n",
      "Epoch 155/200\n",
      "452/452 [==============================] - 0s 35us/step - loss: 0.2282 - acc: 0.9137 - val_loss: 0.2096 - val_acc: 0.9298\n",
      "Epoch 156/200\n",
      "452/452 [==============================] - 0s 38us/step - loss: 0.2276 - acc: 0.9137 - val_loss: 0.2089 - val_acc: 0.9298\n",
      "Epoch 157/200\n",
      "452/452 [==============================] - 0s 33us/step - loss: 0.2270 - acc: 0.9137 - val_loss: 0.2083 - val_acc: 0.9298\n",
      "Epoch 158/200\n",
      "452/452 [==============================] - 0s 33us/step - loss: 0.2264 - acc: 0.9137 - val_loss: 0.2077 - val_acc: 0.9298\n",
      "Epoch 159/200\n",
      "452/452 [==============================] - 0s 33us/step - loss: 0.2258 - acc: 0.9137 - val_loss: 0.2070 - val_acc: 0.9298\n",
      "Epoch 160/200\n",
      "452/452 [==============================] - 0s 38us/step - loss: 0.2252 - acc: 0.9137 - val_loss: 0.2064 - val_acc: 0.9298\n",
      "Epoch 161/200\n",
      "452/452 [==============================] - 0s 51us/step - loss: 0.2246 - acc: 0.9137 - val_loss: 0.2059 - val_acc: 0.9298\n",
      "Epoch 162/200\n",
      "452/452 [==============================] - 0s 42us/step - loss: 0.2240 - acc: 0.9137 - val_loss: 0.2052 - val_acc: 0.9298\n",
      "Epoch 163/200\n",
      "452/452 [==============================] - 0s 51us/step - loss: 0.2235 - acc: 0.9137 - val_loss: 0.2046 - val_acc: 0.9298\n",
      "Epoch 164/200\n",
      "452/452 [==============================] - 0s 24us/step - loss: 0.2229 - acc: 0.9137 - val_loss: 0.2041 - val_acc: 0.9298\n",
      "Epoch 165/200\n",
      "452/452 [==============================] - 0s 26us/step - loss: 0.2224 - acc: 0.9137 - val_loss: 0.2035 - val_acc: 0.9298\n",
      "Epoch 166/200\n",
      "452/452 [==============================] - 0s 33us/step - loss: 0.2219 - acc: 0.9137 - val_loss: 0.2029 - val_acc: 0.9298\n",
      "Epoch 167/200\n",
      "452/452 [==============================] - 0s 29us/step - loss: 0.2213 - acc: 0.9137 - val_loss: 0.2023 - val_acc: 0.9298\n",
      "Epoch 168/200\n",
      "452/452 [==============================] - 0s 35us/step - loss: 0.2207 - acc: 0.9137 - val_loss: 0.2017 - val_acc: 0.9298\n",
      "Epoch 169/200\n",
      "452/452 [==============================] - 0s 33us/step - loss: 0.2202 - acc: 0.9137 - val_loss: 0.2011 - val_acc: 0.9298\n",
      "Epoch 170/200\n",
      "452/452 [==============================] - 0s 35us/step - loss: 0.2196 - acc: 0.9137 - val_loss: 0.2005 - val_acc: 0.9298\n",
      "Epoch 171/200\n",
      "452/452 [==============================] - 0s 33us/step - loss: 0.2191 - acc: 0.9137 - val_loss: 0.2001 - val_acc: 0.9298\n",
      "Epoch 172/200\n",
      "452/452 [==============================] - 0s 29us/step - loss: 0.2187 - acc: 0.9137 - val_loss: 0.1995 - val_acc: 0.9298\n",
      "Epoch 173/200\n",
      "452/452 [==============================] - 0s 22us/step - loss: 0.2181 - acc: 0.9115 - val_loss: 0.1989 - val_acc: 0.9298\n",
      "Epoch 174/200\n",
      "452/452 [==============================] - 0s 40us/step - loss: 0.2176 - acc: 0.9115 - val_loss: 0.1983 - val_acc: 0.9298\n",
      "Epoch 175/200\n",
      "452/452 [==============================] - 0s 22us/step - loss: 0.2170 - acc: 0.9115 - val_loss: 0.1977 - val_acc: 0.9298\n",
      "Epoch 176/200\n",
      "452/452 [==============================] - 0s 22us/step - loss: 0.2165 - acc: 0.9115 - val_loss: 0.1972 - val_acc: 0.9298\n",
      "Epoch 177/200\n",
      "452/452 [==============================] - 0s 22us/step - loss: 0.2160 - acc: 0.9115 - val_loss: 0.1966 - val_acc: 0.9298\n",
      "Epoch 178/200\n",
      "452/452 [==============================] - 0s 22us/step - loss: 0.2155 - acc: 0.9115 - val_loss: 0.1960 - val_acc: 0.9298\n",
      "Epoch 179/200\n",
      "452/452 [==============================] - 0s 22us/step - loss: 0.2150 - acc: 0.9115 - val_loss: 0.1955 - val_acc: 0.9298\n",
      "Epoch 180/200\n",
      "452/452 [==============================] - 0s 24us/step - loss: 0.2145 - acc: 0.9115 - val_loss: 0.1949 - val_acc: 0.9298\n",
      "Epoch 181/200\n"
     ]
    },
    {
     "name": "stdout",
     "output_type": "stream",
     "text": [
      "452/452 [==============================] - 0s 22us/step - loss: 0.2140 - acc: 0.9115 - val_loss: 0.1944 - val_acc: 0.9298\n",
      "Epoch 182/200\n",
      "452/452 [==============================] - 0s 22us/step - loss: 0.2135 - acc: 0.9115 - val_loss: 0.1939 - val_acc: 0.9298\n",
      "Epoch 183/200\n",
      "452/452 [==============================] - 0s 22us/step - loss: 0.2131 - acc: 0.9115 - val_loss: 0.1934 - val_acc: 0.9298\n",
      "Epoch 184/200\n",
      "452/452 [==============================] - 0s 22us/step - loss: 0.2126 - acc: 0.9115 - val_loss: 0.1929 - val_acc: 0.9298\n",
      "Epoch 185/200\n",
      "452/452 [==============================] - 0s 20us/step - loss: 0.2121 - acc: 0.9115 - val_loss: 0.1924 - val_acc: 0.9298\n",
      "Epoch 186/200\n",
      "452/452 [==============================] - 0s 23us/step - loss: 0.2116 - acc: 0.9115 - val_loss: 0.1918 - val_acc: 0.9298\n",
      "Epoch 187/200\n",
      "452/452 [==============================] - 0s 24us/step - loss: 0.2112 - acc: 0.9115 - val_loss: 0.1913 - val_acc: 0.9298\n",
      "Epoch 188/200\n",
      "452/452 [==============================] - 0s 21us/step - loss: 0.2107 - acc: 0.9115 - val_loss: 0.1908 - val_acc: 0.9298\n",
      "Epoch 189/200\n",
      "452/452 [==============================] - 0s 22us/step - loss: 0.2103 - acc: 0.9115 - val_loss: 0.1903 - val_acc: 0.9298\n",
      "Epoch 190/200\n",
      "452/452 [==============================] - 0s 22us/step - loss: 0.2098 - acc: 0.9115 - val_loss: 0.1898 - val_acc: 0.9298\n",
      "Epoch 191/200\n",
      "452/452 [==============================] - 0s 24us/step - loss: 0.2094 - acc: 0.9115 - val_loss: 0.1893 - val_acc: 0.9298\n",
      "Epoch 192/200\n",
      "452/452 [==============================] - 0s 22us/step - loss: 0.2089 - acc: 0.9115 - val_loss: 0.1889 - val_acc: 0.9298\n",
      "Epoch 193/200\n",
      "452/452 [==============================] - ETA: 0s - loss: 0.1399 - acc: 1.000 - 0s 24us/step - loss: 0.2085 - acc: 0.9115 - val_loss: 0.1884 - val_acc: 0.9298\n",
      "Epoch 194/200\n",
      "452/452 [==============================] - 0s 22us/step - loss: 0.2081 - acc: 0.9115 - val_loss: 0.1878 - val_acc: 0.9298\n",
      "Epoch 195/200\n",
      "452/452 [==============================] - 0s 21us/step - loss: 0.2076 - acc: 0.9115 - val_loss: 0.1874 - val_acc: 0.9298\n",
      "Epoch 196/200\n",
      "452/452 [==============================] - 0s 22us/step - loss: 0.2072 - acc: 0.9115 - val_loss: 0.1869 - val_acc: 0.9298\n",
      "Epoch 197/200\n",
      "452/452 [==============================] - 0s 22us/step - loss: 0.2068 - acc: 0.9115 - val_loss: 0.1864 - val_acc: 0.9298\n",
      "Epoch 198/200\n",
      "452/452 [==============================] - 0s 22us/step - loss: 0.2063 - acc: 0.9115 - val_loss: 0.1859 - val_acc: 0.9298\n",
      "Epoch 199/200\n",
      "452/452 [==============================] - 0s 26us/step - loss: 0.2059 - acc: 0.9115 - val_loss: 0.1855 - val_acc: 0.9298\n",
      "Epoch 200/200\n",
      "452/452 [==============================] - 0s 24us/step - loss: 0.2055 - acc: 0.9115 - val_loss: 0.1850 - val_acc: 0.9298\n",
      "\n",
      "\n",
      "\n",
      "Accuracy Score for Nerual Network is 92.982\n",
      "\n",
      "Nerual Network roc-auc is 0.929\n"
     ]
    }
   ],
   "source": [
    "#NEURAL NETWORK\n",
    "\n",
    "## normalize the data\n",
    "\n",
    "X = df_test_over.iloc[:, :-1].values\n",
    "\n",
    "#y-axis uses the variable outcome as its target variable\n",
    "y = df_test_over[\"Outcome\"].values\n",
    "\n",
    "#splitt the training data using 70% for training and 30% for testing\n",
    "X_train, X_test, y_train, y_test = train_test_split(X, y, test_size=0.2, random_state=100)\n",
    "\n",
    "normalizer = StandardScaler()\n",
    "X_train_norm = normalizer.fit_transform(X_train)\n",
    "X_test_norm = normalizer.transform(X_test)\n",
    "\n",
    "# 1 hidden layer, 12 hidden nodes, sigmoid activation\n",
    "\n",
    "model_1 = Sequential([\n",
    "    Dense(12, input_shape=(5,), activation=\"relu\"),\n",
    "    Dense(1, activation=\"sigmoid\")\n",
    "])\n",
    "\n",
    "print(\"\\n************Start of Nerual Netwrok Summary*********\")\n",
    "model_1.summary()\n",
    "\n",
    "# Fit(Train) the Model\n",
    "model_1.compile(SGD(lr = .002), \"binary_crossentropy\", metrics=[\"accuracy\"])\n",
    "run_hist_1 = model_1.fit(X_train_norm, y_train, validation_data=(X_test_norm, y_test), epochs=200)\n",
    "\n",
    "#  One is a hard decision, the other is a probabilitistic score.\n",
    "y_pred_class_nn_1 = model_1.predict_classes(X_test_norm)\n",
    "y_pred_prob_nn_1 = model_1.predict(X_test_norm)\n",
    "\n",
    "y_pred_class_nn_1[:10]\n",
    "y_pred_prob_nn_1[:10]\n",
    "\n",
    "# Print model performance and plot the roc curve\n",
    "print('\\n')\n",
    "print('\\nAccuracy Score for Nerual Network is {:.3f}'.format(accuracy_score(y_test,y_pred_class_nn_1)*100))\n",
    "print('\\nNerual Network roc-auc is {:.3f}'.format(roc_auc_score(y_test,y_pred_class_nn_1)))\n"
   ]
  },
  {
   "cell_type": "code",
   "execution_count": 11,
   "metadata": {},
   "outputs": [
    {
     "data": {
      "image/png": "[encoded data removed]",
      "text/plain": [
       "<Figure size 432x288 with 1 Axes>"
      ]
     },
     "metadata": {
      "needs_background": "light"
     },
     "output_type": "display_data"
    },
    {
     "name": "stdout",
     "output_type": "stream",
     "text": [
      "Precision: 0.921569\n",
      "Confusion Matrix : \n",
      " [[59  4]\n",
      " [ 4 47]]\n",
      "Accuracy :  0.9298245614035088\n",
      "Sensitivity :  0.9365079365079365\n",
      "Specificity :  0.9215686274509803\n"
     ]
    },
    {
     "data": {
      "text/plain": [
       "<Figure size 432x288 with 0 Axes>"
      ]
     },
     "metadata": {},
     "output_type": "display_data"
    }
   ],
   "source": [
    "cm=confusion_matrix(y_test, y_pred_class_nn_1)\n",
    "fig1 = plt.gcf()\n",
    "plt.clf()\n",
    "plt.imshow(cm, interpolation='nearest', cmap=plt.cm.tab20_r)\n",
    "classNames = ['Negative','Positive']\n",
    "plt.title(\"CONFUSION MATRIX FOR NEURAL NETWORK\")\n",
    "plt.ylabel('True label')\n",
    "plt.xlabel('Predicted label')\n",
    "tick_marks = np.arange(len(classNames))\n",
    "plt.xticks(tick_marks, classNames, rotation=45)\n",
    "plt.yticks(tick_marks, classNames)\n",
    "s = [['TN','FP'], ['FN', 'TP']]\n",
    "for i in range(2):\n",
    "    for j in range(2):\n",
    "        plt.text(j,i, str(s[i][j])+\" = \"+str(cm[i][j]))\n",
    "plt.show()\n",
    "plt.draw()\n",
    "fig1.savefig('tessstttyyy.png', dpi=100)\n",
    "\n",
    "\n",
    "#Confusion matrix, Accuracy, sensitivity and specificity\n",
    "from sklearn.metrics import confusion_matrix\n",
    "\n",
    "from sklearn.metrics import confusion_matrix, precision_score, roc_auc_score, roc_curve, accuracy_score\n",
    "precision = precision_score(y_test, y_pred_class_nn_1)\n",
    "print('Precision: %f' % precision)\n",
    "\n",
    "cm=confusion_matrix(y_test, y_pred_class_nn_1)\n",
    "print('Confusion Matrix : \\n', cm)\n",
    "\n",
    "total1=sum(sum(cm))\n",
    "#####from confusion matrix calculate accuracy\n",
    "accuracy1=(cm[0,0]+cm[1,1])/total1\n",
    "print ('Accuracy : ', accuracy1)\n",
    "\n",
    "sensitivity1 = cm[0,0]/(cm[0,0]+cm[0,1])\n",
    "print('Sensitivity : ', sensitivity1 )\n",
    "\n",
    "specificity1 = cm[1,1]/(cm[1,0]+cm[1,1])\n",
    "print('Specificity : ', specificity1)"
   ]
  },
  {
   "cell_type": "code",
   "execution_count": 12,
   "metadata": {},
   "outputs": [
    {
     "name": "stdout",
     "output_type": "stream",
     "text": [
      "\n",
      "Logisitcal Regression AUCROC is 0.987\n"
     ]
    },
    {
     "data": {
      "image/png": "[encoded data removed]",
      "text/plain": [
       "<Figure size 720x720 with 1 Axes>"
      ]
     },
     "metadata": {
      "needs_background": "light"
     },
     "output_type": "display_data"
    }
   ],
   "source": [
    "from sklearn.metrics import roc_curve, auc\n",
    "\n",
    "false_positive_rate, true_positive_rate, thresholds = roc_curve(y_test,y_pred_prob_nn_1)\n",
    "roc_auc = auc(false_positive_rate, true_positive_rate)\n",
    "roc_auc\n",
    "\n",
    "plt.figure(figsize=(10,10))\n",
    "plt.title('Receiver Operating Characteristic for Nerual Network')\n",
    "plt.plot(false_positive_rate,true_positive_rate, color='red',label = 'AUC = %0.2f' % roc_auc)\n",
    "plt.legend(loc = 'lower right')\n",
    "plt.plot([0, 1], [0, 1],linestyle='--')\n",
    "plt.axis('tight')\n",
    "plt.grid(True)\n",
    "plt.ylabel('True Positive Rate')\n",
    "plt.xlabel('False Positive Rates')\n",
    "plt.savefig('nnroc.png')\n",
    "\n",
    "\n",
    "print('\\nLogisitcal Regression AUCROC is {:.3f}'.format(roc_auc_score(y_test,y_pred_prob_nn_1)))"
   ]
  },
  {
   "cell_type": "code",
   "execution_count": 13,
   "metadata": {},
   "outputs": [
    {
     "name": "stdout",
     "output_type": "stream",
     "text": [
      "\n",
      "Accuracy Score for Desicion Tree Model using Gini Index is  93.52941176470588\n",
      "\n",
      "Desicion Tree  Classification Report\n",
      "\n",
      "              precision    recall  f1-score   support\n",
      "\n",
      "         0.0       0.95      0.92      0.93        85\n",
      "         1.0       0.92      0.95      0.94        85\n",
      "\n",
      "    accuracy                           0.94       170\n",
      "   macro avg       0.94      0.94      0.94       170\n",
      "weighted avg       0.94      0.94      0.94       170\n",
      "\n",
      "\n",
      "Nerual Network roc-auc is 0.935\n"
     ]
    }
   ],
   "source": [
    "#DECISION TREE WITH GINI INDEX\n",
    "\n",
    "#first 3 attributes are used for the x-axis\n",
    "X = df_test_over.values[:, 0:4]\n",
    "#attributes after number 3 are used for the y-axis\n",
    "Y = df_test_over.values[:,-1]\n",
    "\n",
    "#import Accuracy Score to guage performance\n",
    "from sklearn.metrics import accuracy_score\n",
    "\n",
    "#Split the dataset using 70% for training and 30% for testing\n",
    "X_train, X_test, y_train, y_test = train_test_split( X, Y, test_size = 0.3, random_state = 545)\n",
    "\n",
    "#implement a depth of 5, with a minimum of 5 leaf nodes and a random state of 100\n",
    "dt_clf_gini = DecisionTreeClassifier(criterion = \"gini\", random_state = 1,\n",
    "                               max_depth=5, min_samples_leaf=10)\n",
    "\n",
    "#pass the training data to the decision tree\n",
    "dt_clf_gini.fit(X_train, y_train)\n",
    "\n",
    "#make prediction using unseen test data\n",
    "y_pred_gini = dt_clf_gini.predict(X_test)\n",
    "\n",
    "#methods used to show the performance metrics of the model\n",
    "print (\"\\nAccuracy Score for Desicion Tree Model using Gini Index is \", accuracy_score(y_test,y_pred_gini)*100 )\n",
    "print(\"\\nDesicion Tree  Classification Report\\n\")\n",
    "print(classification_report(y_test,y_pred_gini))\n",
    "print('\\nNerual Network roc-auc is {:.3f}'.format(roc_auc_score(y_test,y_pred_gini)))\n",
    "\n"
   ]
  },
  {
   "cell_type": "code",
   "execution_count": 14,
   "metadata": {},
   "outputs": [
    {
     "name": "stdout",
     "output_type": "stream",
     "text": [
      "Precision: 0.920455\n",
      "Confusion Matrix : \n",
      " [[78  7]\n",
      " [ 4 81]]\n",
      "Accuracy :  0.9352941176470588\n",
      "Sensitivity :  0.9176470588235294\n",
      "Specificity :  0.9529411764705882\n"
     ]
    }
   ],
   "source": [
    "#Confusion matrix, Accuracy, sensitivity and specificity\n",
    "from sklearn.metrics import confusion_matrix\n",
    "\n",
    "from sklearn.metrics import confusion_matrix, precision_score, roc_auc_score, roc_curve, accuracy_score\n",
    "precision = precision_score(y_test, y_pred_gini)\n",
    "print('Precision: %f' % precision)\n",
    "\n",
    "cm=confusion_matrix(y_test, y_pred_gini)\n",
    "print('Confusion Matrix : \\n', cm)\n",
    "\n",
    "total1=sum(sum(cm))\n",
    "#####from confusion matrix calculate accuracy\n",
    "accuracy1=(cm[0,0]+cm[1,1])/total1\n",
    "print ('Accuracy : ', accuracy1)\n",
    "\n",
    "sensitivity1 = cm[0,0]/(cm[0,0]+cm[0,1])\n",
    "print('Sensitivity : ', sensitivity1 )\n",
    "\n",
    "specificity1 = cm[1,1]/(cm[1,0]+cm[1,1])\n",
    "print('Specificity : ', specificity1)"
   ]
  },
  {
   "cell_type": "code",
   "execution_count": 15,
   "metadata": {},
   "outputs": [
    {
     "name": "stdout",
     "output_type": "stream",
     "text": [
      "Logistic: f1=0.936 auc=0.948\n"
     ]
    },
    {
     "data": {
      "image/png": "[encoded data removed]",
      "text/plain": [
       "<Figure size 432x288 with 1 Axes>"
      ]
     },
     "metadata": {
      "needs_background": "light"
     },
     "output_type": "display_data"
    }
   ],
   "source": [
    "from sklearn.datasets import make_classification\n",
    "from sklearn.linear_model import LogisticRegression\n",
    "from sklearn.model_selection import train_test_split\n",
    "from sklearn.metrics import precision_recall_curve\n",
    "from sklearn.metrics import f1_score\n",
    "from sklearn.metrics import auc\n",
    "from matplotlib import pyplot\n",
    "\n",
    "\n",
    "\n",
    "\n",
    "# predict probabilities\n",
    "lr_probs = dt_clf_gini.predict_proba(X_test)\n",
    "# keep probabilities for the positive outcome only\n",
    "lr_probs = lr_probs[:, 1]\n",
    "# predict class values\n",
    "yhat = dt_clf_gini.predict(X_test)\n",
    "lr_precision, lr_recall, _ = precision_recall_curve(y_test,y_pred_gini)\n",
    "lr_f1, lr_auc = f1_score(y_test,y_pred_gini), auc(lr_recall, lr_precision)\n",
    "# summarize scores\n",
    "\n",
    "print('Logistic: f1=%.3f auc=%.3f' % (lr_f1, lr_auc))\n",
    "# plot the precision-recall curves\n",
    "no_skill = len(y_test[y_test==1]) / len(y_test)\n",
    "pyplot.plot([0, 1], [no_skill, no_skill], linestyle='--', label='No Skill')\n",
    "pyplot.plot(lr_recall, lr_precision, marker='.', label='Logistic')\n",
    "# axis labels\n",
    "pyplot.xlabel('Recall')\n",
    "pyplot.ylabel('Precision')\n",
    "# show the legend\n",
    "pyplot.legend()\n",
    "# show the plot\n",
    "pyplot.show()"
   ]
  },
  {
   "cell_type": "code",
   "execution_count": 16,
   "metadata": {},
   "outputs": [
    {
     "name": "stderr",
     "output_type": "stream",
     "text": [
      "C:\\Users\\jamie\\Anaconda3\\lib\\site-packages\\seaborn\\axisgrid.py:230: UserWarning: The `size` paramter has been renamed to `height`; please update your code.\n",
      "  warnings.warn(msg, UserWarning)\n"
     ]
    },
    {
     "data": {
      "image/png": "[encoded data removed]",
      "text/plain": [
       "<Figure size 720x360 with 2 Axes>"
      ]
     },
     "metadata": {
      "needs_background": "light"
     },
     "output_type": "display_data"
    }
   ],
   "source": [
    "# Explore Age vs Survived\n",
    "g = sns.FacetGrid(df, col='Outcome',size = 5 )\n",
    "g = g.map(sns.distplot, \"Fatigued\",bins=5,hist=False, rug=True,color='green')\n",
    "\n"
   ]
  },
  {
   "cell_type": "code",
   "execution_count": 18,
   "metadata": {},
   "outputs": [
    {
     "name": "stderr",
     "output_type": "stream",
     "text": [
      "C:\\Users\\jamie\\Anaconda3\\lib\\site-packages\\seaborn\\axisgrid.py:230: UserWarning: The `size` paramter has been renamed to `height`; please update your code.\n",
      "  warnings.warn(msg, UserWarning)\n"
     ]
    },
    {
     "data": {
      "image/png": "[encoded data removed]",
      "text/plain": [
       "<Figure size 720x360 with 2 Axes>"
      ]
     },
     "metadata": {
      "needs_background": "light"
     },
     "output_type": "display_data"
    }
   ],
   "source": [
    "g = sns.FacetGrid(df, col='Outcome',size = 5 )\n",
    "g = g.map(sns.distplot, \"Stress\",bins=5,hist=False, rug=True,color='red')\n",
    "\n"
   ]
  },
  {
   "cell_type": "code",
   "execution_count": null,
   "metadata": {},
   "outputs": [],
   "source": []
  },
  {
   "cell_type": "code",
   "execution_count": null,
   "metadata": {},
   "outputs": [],
   "source": []
  }
 ],
 "metadata": {
  "kernelspec": {
   "display_name": "Python 3",
   "language": "python",
   "name": "python3"
  },
  "language_info": {
   "codemirror_mode": {
    "name": "ipython",
    "version": 3
   },
   "file_extension": ".py",
   "mimetype": "text/x-python",
   "name": "python",
   "nbconvert_exporter": "python",
   "pygments_lexer": "ipython3",
   "version": "3.7.3"
  }
 },
 "nbformat": 4,
 "nbformat_minor": 2
}
